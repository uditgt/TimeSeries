{
 "cells": [
  {
   "cell_type": "markdown",
   "metadata": {},
   "source": [
    "### Overview\n",
    "* Two Stage approach-\n",
    "    1. Run Prophet model\n",
    "      * Add select output from forecast of fitted Prophet model, to orignal X matrix to augment feature space\n",
    "    2. Run XGBoost Regression using new feature matrix\n",
    "---"
   ]
  },
  {
   "cell_type": "code",
   "execution_count": 1,
   "metadata": {},
   "outputs": [],
   "source": [
    "import numpy as np\n",
    "import pandas as pd\n",
    "import matplotlib.pyplot as plt\n",
    "import seaborn as sns\n",
    "%matplotlib inline\n",
    "pd.options.display.max_columns = None\n",
    "\n",
    "# Model\n",
    "import xgboost as xgb\n",
    "import itertools\n",
    "from fbprophet import Prophet\n",
    "from fbprophet.diagnostics import cross_validation\n",
    "\n",
    "\n",
    "# Error Metrics\n",
    "from sklearn.metrics import mean_absolute_error, mean_squared_error\n",
    "\n",
    "# Suppress 'futurewarnings'\n",
    "import warnings\n",
    "# warnings.filterwarnings(\"ignore\")\n",
    "warnings.simplefilter(action='ignore', category=FutureWarning)"
   ]
  },
  {
   "cell_type": "markdown",
   "metadata": {},
   "source": [
    "## Stage 1 - Fitting Prophet Model"
   ]
  },
  {
   "cell_type": "code",
   "execution_count": 2,
   "metadata": {},
   "outputs": [
    {
     "data": {
      "text/html": [
       "<div>\n",
       "<style scoped>\n",
       "    .dataframe tbody tr th:only-of-type {\n",
       "        vertical-align: middle;\n",
       "    }\n",
       "\n",
       "    .dataframe tbody tr th {\n",
       "        vertical-align: top;\n",
       "    }\n",
       "\n",
       "    .dataframe thead th {\n",
       "        text-align: right;\n",
       "    }\n",
       "</style>\n",
       "<table border=\"1\" class=\"dataframe\">\n",
       "  <thead>\n",
       "    <tr style=\"text-align: right;\">\n",
       "      <th></th>\n",
       "      <th>dteday</th>\n",
       "      <th>cnt</th>\n",
       "      <th>holiday</th>\n",
       "      <th>workingday</th>\n",
       "      <th>weathersit</th>\n",
       "      <th>temp</th>\n",
       "      <th>atemp</th>\n",
       "      <th>hum</th>\n",
       "      <th>windspeed</th>\n",
       "    </tr>\n",
       "  </thead>\n",
       "  <tbody>\n",
       "    <tr>\n",
       "      <th>0</th>\n",
       "      <td>2011-01-01</td>\n",
       "      <td>985</td>\n",
       "      <td>0</td>\n",
       "      <td>0</td>\n",
       "      <td>2</td>\n",
       "      <td>0.344167</td>\n",
       "      <td>0.363625</td>\n",
       "      <td>0.805833</td>\n",
       "      <td>0.160446</td>\n",
       "    </tr>\n",
       "    <tr>\n",
       "      <th>1</th>\n",
       "      <td>2011-01-02</td>\n",
       "      <td>801</td>\n",
       "      <td>0</td>\n",
       "      <td>0</td>\n",
       "      <td>2</td>\n",
       "      <td>0.363478</td>\n",
       "      <td>0.353739</td>\n",
       "      <td>0.696087</td>\n",
       "      <td>0.248539</td>\n",
       "    </tr>\n",
       "    <tr>\n",
       "      <th>2</th>\n",
       "      <td>2011-01-03</td>\n",
       "      <td>1349</td>\n",
       "      <td>0</td>\n",
       "      <td>1</td>\n",
       "      <td>1</td>\n",
       "      <td>0.196364</td>\n",
       "      <td>0.189405</td>\n",
       "      <td>0.437273</td>\n",
       "      <td>0.248309</td>\n",
       "    </tr>\n",
       "    <tr>\n",
       "      <th>3</th>\n",
       "      <td>2011-01-04</td>\n",
       "      <td>1562</td>\n",
       "      <td>0</td>\n",
       "      <td>1</td>\n",
       "      <td>1</td>\n",
       "      <td>0.200000</td>\n",
       "      <td>0.212122</td>\n",
       "      <td>0.590435</td>\n",
       "      <td>0.160296</td>\n",
       "    </tr>\n",
       "    <tr>\n",
       "      <th>4</th>\n",
       "      <td>2011-01-05</td>\n",
       "      <td>1600</td>\n",
       "      <td>0</td>\n",
       "      <td>1</td>\n",
       "      <td>1</td>\n",
       "      <td>0.226957</td>\n",
       "      <td>0.229270</td>\n",
       "      <td>0.436957</td>\n",
       "      <td>0.186900</td>\n",
       "    </tr>\n",
       "  </tbody>\n",
       "</table>\n",
       "</div>"
      ],
      "text/plain": [
       "       dteday   cnt  holiday  workingday  weathersit      temp     atemp  \\\n",
       "0  2011-01-01   985        0           0           2  0.344167  0.363625   \n",
       "1  2011-01-02   801        0           0           2  0.363478  0.353739   \n",
       "2  2011-01-03  1349        0           1           1  0.196364  0.189405   \n",
       "3  2011-01-04  1562        0           1           1  0.200000  0.212122   \n",
       "4  2011-01-05  1600        0           1           1  0.226957  0.229270   \n",
       "\n",
       "        hum  windspeed  \n",
       "0  0.805833   0.160446  \n",
       "1  0.696087   0.248539  \n",
       "2  0.437273   0.248309  \n",
       "3  0.590435   0.160296  \n",
       "4  0.436957   0.186900  "
      ]
     },
     "execution_count": 2,
     "metadata": {},
     "output_type": "execute_result"
    }
   ],
   "source": [
    "df = pd.read_csv('data/daily_bike_sharing.csv')\n",
    "df = df.loc[:,['dteday', 'cnt', 'holiday', 'workingday','weathersit', 'temp', 'atemp', 'hum', 'windspeed']]\n",
    "df.head()"
   ]
  },
  {
   "cell_type": "code",
   "execution_count": 3,
   "metadata": {},
   "outputs": [
    {
     "data": {
      "text/plain": [
       "dteday        datetime64[ns]\n",
       "cnt                    int64\n",
       "holiday                int64\n",
       "workingday             int64\n",
       "weathersit             int64\n",
       "temp                 float64\n",
       "atemp                float64\n",
       "hum                  float64\n",
       "windspeed            float64\n",
       "dtype: object"
      ]
     },
     "execution_count": 3,
     "metadata": {},
     "output_type": "execute_result"
    }
   ],
   "source": [
    "df['dteday'] = pd.to_datetime(df['dteday'], format='%Y-%m-%d')\n",
    "df.dtypes"
   ]
  },
  {
   "cell_type": "code",
   "execution_count": 4,
   "metadata": {},
   "outputs": [
    {
     "data": {
      "text/html": [
       "<div>\n",
       "<style scoped>\n",
       "    .dataframe tbody tr th:only-of-type {\n",
       "        vertical-align: middle;\n",
       "    }\n",
       "\n",
       "    .dataframe tbody tr th {\n",
       "        vertical-align: top;\n",
       "    }\n",
       "\n",
       "    .dataframe thead th {\n",
       "        text-align: right;\n",
       "    }\n",
       "</style>\n",
       "<table border=\"1\" class=\"dataframe\">\n",
       "  <thead>\n",
       "    <tr style=\"text-align: right;\">\n",
       "      <th></th>\n",
       "      <th>ds</th>\n",
       "      <th>y</th>\n",
       "      <th>holiday</th>\n",
       "      <th>workingday</th>\n",
       "      <th>weathersit</th>\n",
       "      <th>temp</th>\n",
       "      <th>atemp</th>\n",
       "      <th>hum</th>\n",
       "      <th>windspeed</th>\n",
       "    </tr>\n",
       "  </thead>\n",
       "  <tbody>\n",
       "    <tr>\n",
       "      <th>0</th>\n",
       "      <td>2011-01-01</td>\n",
       "      <td>985</td>\n",
       "      <td>0</td>\n",
       "      <td>0</td>\n",
       "      <td>2</td>\n",
       "      <td>0.344167</td>\n",
       "      <td>0.363625</td>\n",
       "      <td>0.805833</td>\n",
       "      <td>0.160446</td>\n",
       "    </tr>\n",
       "    <tr>\n",
       "      <th>1</th>\n",
       "      <td>2011-01-02</td>\n",
       "      <td>801</td>\n",
       "      <td>0</td>\n",
       "      <td>0</td>\n",
       "      <td>2</td>\n",
       "      <td>0.363478</td>\n",
       "      <td>0.353739</td>\n",
       "      <td>0.696087</td>\n",
       "      <td>0.248539</td>\n",
       "    </tr>\n",
       "  </tbody>\n",
       "</table>\n",
       "</div>"
      ],
      "text/plain": [
       "          ds    y  holiday  workingday  weathersit      temp     atemp  \\\n",
       "0 2011-01-01  985        0           0           2  0.344167  0.363625   \n",
       "1 2011-01-02  801        0           0           2  0.363478  0.353739   \n",
       "\n",
       "        hum  windspeed  \n",
       "0  0.805833   0.160446  \n",
       "1  0.696087   0.248539  "
      ]
     },
     "execution_count": 4,
     "metadata": {},
     "output_type": "execute_result"
    }
   ],
   "source": [
    "df = df.rename(columns={'cnt':'y', 'dteday':'ds'})  #  Prophet imposes specific names\n",
    "df.head(2)"
   ]
  },
  {
   "cell_type": "code",
   "execution_count": 5,
   "metadata": {},
   "outputs": [
    {
     "data": {
      "image/png": "[encoded data removed]",
      "text/plain": [
       "<Figure size 720x432 with 1 Axes>"
      ]
     },
     "metadata": {
      "needs_background": "light"
     },
     "output_type": "display_data"
    }
   ],
   "source": [
    "plt.figure(figsize = (10,6))\n",
    "sns.lineplot(x = df['ds'], y=df['y']);"
   ]
  },
  {
   "cell_type": "code",
   "execution_count": 6,
   "metadata": {},
   "outputs": [
    {
     "name": "stdout",
     "output_type": "stream",
     "text": [
      "(21, 9)\n"
     ]
    },
    {
     "data": {
      "text/html": [
       "<div>\n",
       "<style scoped>\n",
       "    .dataframe tbody tr th:only-of-type {\n",
       "        vertical-align: middle;\n",
       "    }\n",
       "\n",
       "    .dataframe tbody tr th {\n",
       "        vertical-align: top;\n",
       "    }\n",
       "\n",
       "    .dataframe thead th {\n",
       "        text-align: right;\n",
       "    }\n",
       "</style>\n",
       "<table border=\"1\" class=\"dataframe\">\n",
       "  <thead>\n",
       "    <tr style=\"text-align: right;\">\n",
       "      <th></th>\n",
       "      <th>ds</th>\n",
       "      <th>y</th>\n",
       "      <th>holiday</th>\n",
       "      <th>workingday</th>\n",
       "      <th>weathersit</th>\n",
       "      <th>temp</th>\n",
       "      <th>atemp</th>\n",
       "      <th>hum</th>\n",
       "      <th>windspeed</th>\n",
       "    </tr>\n",
       "  </thead>\n",
       "  <tbody>\n",
       "    <tr>\n",
       "      <th>16</th>\n",
       "      <td>2011-01-17</td>\n",
       "      <td>1000</td>\n",
       "      <td>1</td>\n",
       "      <td>0</td>\n",
       "      <td>2</td>\n",
       "      <td>0.175833</td>\n",
       "      <td>0.176771</td>\n",
       "      <td>0.537500</td>\n",
       "      <td>0.194017</td>\n",
       "    </tr>\n",
       "    <tr>\n",
       "      <th>51</th>\n",
       "      <td>2011-02-21</td>\n",
       "      <td>1107</td>\n",
       "      <td>1</td>\n",
       "      <td>0</td>\n",
       "      <td>2</td>\n",
       "      <td>0.303333</td>\n",
       "      <td>0.284075</td>\n",
       "      <td>0.605000</td>\n",
       "      <td>0.307846</td>\n",
       "    </tr>\n",
       "    <tr>\n",
       "      <th>104</th>\n",
       "      <td>2011-04-15</td>\n",
       "      <td>3126</td>\n",
       "      <td>1</td>\n",
       "      <td>0</td>\n",
       "      <td>1</td>\n",
       "      <td>0.446667</td>\n",
       "      <td>0.441913</td>\n",
       "      <td>0.671250</td>\n",
       "      <td>0.226375</td>\n",
       "    </tr>\n",
       "    <tr>\n",
       "      <th>149</th>\n",
       "      <td>2011-05-30</td>\n",
       "      <td>4098</td>\n",
       "      <td>1</td>\n",
       "      <td>0</td>\n",
       "      <td>1</td>\n",
       "      <td>0.733333</td>\n",
       "      <td>0.671092</td>\n",
       "      <td>0.685000</td>\n",
       "      <td>0.131225</td>\n",
       "    </tr>\n",
       "    <tr>\n",
       "      <th>184</th>\n",
       "      <td>2011-07-04</td>\n",
       "      <td>6043</td>\n",
       "      <td>1</td>\n",
       "      <td>0</td>\n",
       "      <td>2</td>\n",
       "      <td>0.726667</td>\n",
       "      <td>0.665417</td>\n",
       "      <td>0.637917</td>\n",
       "      <td>0.081479</td>\n",
       "    </tr>\n",
       "  </tbody>\n",
       "</table>\n",
       "</div>"
      ],
      "text/plain": [
       "            ds     y  holiday  workingday  weathersit      temp     atemp  \\\n",
       "16  2011-01-17  1000        1           0           2  0.175833  0.176771   \n",
       "51  2011-02-21  1107        1           0           2  0.303333  0.284075   \n",
       "104 2011-04-15  3126        1           0           1  0.446667  0.441913   \n",
       "149 2011-05-30  4098        1           0           1  0.733333  0.671092   \n",
       "184 2011-07-04  6043        1           0           2  0.726667  0.665417   \n",
       "\n",
       "          hum  windspeed  \n",
       "16   0.537500   0.194017  \n",
       "51   0.605000   0.307846  \n",
       "104  0.671250   0.226375  \n",
       "149  0.685000   0.131225  \n",
       "184  0.637917   0.081479  "
      ]
     },
     "execution_count": 6,
     "metadata": {},
     "output_type": "execute_result"
    }
   ],
   "source": [
    "print(df[df['holiday']==1].shape)\n",
    "df[df['holiday']==1][:5]"
   ]
  },
  {
   "cell_type": "code",
   "execution_count": 7,
   "metadata": {},
   "outputs": [
    {
     "data": {
      "text/html": [
       "<div>\n",
       "<style scoped>\n",
       "    .dataframe tbody tr th:only-of-type {\n",
       "        vertical-align: middle;\n",
       "    }\n",
       "\n",
       "    .dataframe tbody tr th {\n",
       "        vertical-align: top;\n",
       "    }\n",
       "\n",
       "    .dataframe thead th {\n",
       "        text-align: right;\n",
       "    }\n",
       "</style>\n",
       "<table border=\"1\" class=\"dataframe\">\n",
       "  <thead>\n",
       "    <tr style=\"text-align: right;\">\n",
       "      <th></th>\n",
       "      <th>holiday</th>\n",
       "      <th>ds</th>\n",
       "      <th>lower_window</th>\n",
       "      <th>upper_window</th>\n",
       "    </tr>\n",
       "  </thead>\n",
       "  <tbody>\n",
       "    <tr>\n",
       "      <th>16</th>\n",
       "      <td>holi</td>\n",
       "      <td>2011-01-17</td>\n",
       "      <td>-3</td>\n",
       "      <td>1</td>\n",
       "    </tr>\n",
       "    <tr>\n",
       "      <th>51</th>\n",
       "      <td>holi</td>\n",
       "      <td>2011-02-21</td>\n",
       "      <td>-3</td>\n",
       "      <td>1</td>\n",
       "    </tr>\n",
       "    <tr>\n",
       "      <th>104</th>\n",
       "      <td>holi</td>\n",
       "      <td>2011-04-15</td>\n",
       "      <td>-3</td>\n",
       "      <td>1</td>\n",
       "    </tr>\n",
       "    <tr>\n",
       "      <th>149</th>\n",
       "      <td>holi</td>\n",
       "      <td>2011-05-30</td>\n",
       "      <td>-3</td>\n",
       "      <td>1</td>\n",
       "    </tr>\n",
       "    <tr>\n",
       "      <th>184</th>\n",
       "      <td>holi</td>\n",
       "      <td>2011-07-04</td>\n",
       "      <td>-3</td>\n",
       "      <td>1</td>\n",
       "    </tr>\n",
       "  </tbody>\n",
       "</table>\n",
       "</div>"
      ],
      "text/plain": [
       "    holiday         ds  lower_window  upper_window\n",
       "16     holi 2011-01-17            -3             1\n",
       "51     holi 2011-02-21            -3             1\n",
       "104    holi 2011-04-15            -3             1\n",
       "149    holi 2011-05-30            -3             1\n",
       "184    holi 2011-07-04            -3             1"
      ]
     },
     "execution_count": 7,
     "metadata": {},
     "output_type": "execute_result"
    }
   ],
   "source": [
    "holidays = pd.DataFrame({'holiday':'holi',\n",
    "                         'ds': df[df['holiday']==1]['ds'],\n",
    "                         'lower_window':-3,\n",
    "                         'upper_window':1})\n",
    "holidays.head()"
   ]
  },
  {
   "cell_type": "code",
   "execution_count": 8,
   "metadata": {},
   "outputs": [
    {
     "name": "stdout",
     "output_type": "stream",
     "text": [
      "(700, 8) (31, 8)\n"
     ]
    },
    {
     "data": {
      "text/html": [
       "<div>\n",
       "<style scoped>\n",
       "    .dataframe tbody tr th:only-of-type {\n",
       "        vertical-align: middle;\n",
       "    }\n",
       "\n",
       "    .dataframe tbody tr th {\n",
       "        vertical-align: top;\n",
       "    }\n",
       "\n",
       "    .dataframe thead th {\n",
       "        text-align: right;\n",
       "    }\n",
       "</style>\n",
       "<table border=\"1\" class=\"dataframe\">\n",
       "  <thead>\n",
       "    <tr style=\"text-align: right;\">\n",
       "      <th></th>\n",
       "      <th>ds</th>\n",
       "      <th>y</th>\n",
       "      <th>workingday</th>\n",
       "      <th>weathersit</th>\n",
       "      <th>temp</th>\n",
       "      <th>atemp</th>\n",
       "      <th>hum</th>\n",
       "      <th>windspeed</th>\n",
       "    </tr>\n",
       "  </thead>\n",
       "  <tbody>\n",
       "    <tr>\n",
       "      <th>729</th>\n",
       "      <td>2012-12-30</td>\n",
       "      <td>1796</td>\n",
       "      <td>0</td>\n",
       "      <td>1</td>\n",
       "      <td>0.255833</td>\n",
       "      <td>0.231700</td>\n",
       "      <td>0.483333</td>\n",
       "      <td>0.350754</td>\n",
       "    </tr>\n",
       "    <tr>\n",
       "      <th>730</th>\n",
       "      <td>2012-12-31</td>\n",
       "      <td>2729</td>\n",
       "      <td>1</td>\n",
       "      <td>2</td>\n",
       "      <td>0.215833</td>\n",
       "      <td>0.223487</td>\n",
       "      <td>0.577500</td>\n",
       "      <td>0.154846</td>\n",
       "    </tr>\n",
       "  </tbody>\n",
       "</table>\n",
       "</div>"
      ],
      "text/plain": [
       "            ds     y  workingday  weathersit      temp     atemp       hum  \\\n",
       "729 2012-12-30  1796           0           1  0.255833  0.231700  0.483333   \n",
       "730 2012-12-31  2729           1           2  0.215833  0.223487  0.577500   \n",
       "\n",
       "     windspeed  \n",
       "729   0.350754  \n",
       "730   0.154846  "
      ]
     },
     "metadata": {},
     "output_type": "display_data"
    }
   ],
   "source": [
    "# Train, Test split\n",
    "test_period = 31\n",
    "train = df.iloc[:-test_period,:].drop(columns = 'holiday')\n",
    "test  = df.iloc[-test_period:,:].drop(columns = 'holiday')\n",
    "print(train.shape, test.shape)\n",
    "display(test.tail(2))"
   ]
  },
  {
   "cell_type": "markdown",
   "metadata": {},
   "source": [
    "### >> Prophet model"
   ]
  },
  {
   "cell_type": "code",
   "execution_count": 9,
   "metadata": {},
   "outputs": [
    {
     "data": {
      "text/plain": [
       "<fbprophet.forecaster.Prophet at 0x192da00e130>"
      ]
     },
     "execution_count": 9,
     "metadata": {},
     "output_type": "execute_result"
    }
   ],
   "source": [
    "model = Prophet(growth = 'linear',\n",
    "                yearly_seasonality=True,\n",
    "                weekly_seasonality=True,\n",
    "                daily_seasonality=False,\n",
    "                holidays=holidays,\n",
    "                seasonality_mode='multiplicative',\n",
    "                seasonality_prior_scale=20,\n",
    "                holidays_prior_scale=20,\n",
    "                changepoint_prior_scale=0.01)\n",
    "model.add_regressor('workingday')\n",
    "model.add_regressor('weathersit')\n",
    "model.add_regressor('temp')\n",
    "model.add_regressor('atemp')\n",
    "model.add_regressor('hum')\n",
    "model.add_regressor('windspeed')"
   ]
  },
  {
   "cell_type": "code",
   "execution_count": 10,
   "metadata": {},
   "outputs": [
    {
     "data": {
      "text/plain": [
       "<fbprophet.forecaster.Prophet at 0x192da00e130>"
      ]
     },
     "execution_count": 10,
     "metadata": {},
     "output_type": "execute_result"
    }
   ],
   "source": [
    "model.fit(train)"
   ]
  },
  {
   "cell_type": "markdown",
   "metadata": {},
   "source": [
    "### >> Model Forecast"
   ]
  },
  {
   "cell_type": "code",
   "execution_count": 11,
   "metadata": {},
   "outputs": [
    {
     "data": {
      "text/plain": [
       "(731, 1)"
      ]
     },
     "execution_count": 11,
     "metadata": {},
     "output_type": "execute_result"
    }
   ],
   "source": [
    "# create dataset with 'data-stamps' - including past and future\n",
    "X_df = model.make_future_dataframe(periods = len(test), freq='D')\n",
    "X_df.shape"
   ]
  },
  {
   "cell_type": "code",
   "execution_count": 12,
   "metadata": {},
   "outputs": [
    {
     "data": {
      "text/html": [
       "<div>\n",
       "<style scoped>\n",
       "    .dataframe tbody tr th:only-of-type {\n",
       "        vertical-align: middle;\n",
       "    }\n",
       "\n",
       "    .dataframe tbody tr th {\n",
       "        vertical-align: top;\n",
       "    }\n",
       "\n",
       "    .dataframe thead th {\n",
       "        text-align: right;\n",
       "    }\n",
       "</style>\n",
       "<table border=\"1\" class=\"dataframe\">\n",
       "  <thead>\n",
       "    <tr style=\"text-align: right;\">\n",
       "      <th></th>\n",
       "      <th>ds</th>\n",
       "    </tr>\n",
       "  </thead>\n",
       "  <tbody>\n",
       "    <tr>\n",
       "      <th>0</th>\n",
       "      <td>2011-01-01</td>\n",
       "    </tr>\n",
       "    <tr>\n",
       "      <th>1</th>\n",
       "      <td>2011-01-02</td>\n",
       "    </tr>\n",
       "  </tbody>\n",
       "</table>\n",
       "</div>"
      ],
      "text/plain": [
       "          ds\n",
       "0 2011-01-01\n",
       "1 2011-01-02"
      ]
     },
     "execution_count": 12,
     "metadata": {},
     "output_type": "execute_result"
    }
   ],
   "source": [
    "X_df.head(2)"
   ]
  },
  {
   "cell_type": "code",
   "execution_count": 13,
   "metadata": {},
   "outputs": [
    {
     "data": {
      "text/html": [
       "<div>\n",
       "<style scoped>\n",
       "    .dataframe tbody tr th:only-of-type {\n",
       "        vertical-align: middle;\n",
       "    }\n",
       "\n",
       "    .dataframe tbody tr th {\n",
       "        vertical-align: top;\n",
       "    }\n",
       "\n",
       "    .dataframe thead th {\n",
       "        text-align: right;\n",
       "    }\n",
       "</style>\n",
       "<table border=\"1\" class=\"dataframe\">\n",
       "  <thead>\n",
       "    <tr style=\"text-align: right;\">\n",
       "      <th></th>\n",
       "      <th>ds</th>\n",
       "      <th>workingday</th>\n",
       "      <th>weathersit</th>\n",
       "      <th>temp</th>\n",
       "      <th>atemp</th>\n",
       "      <th>hum</th>\n",
       "      <th>windspeed</th>\n",
       "    </tr>\n",
       "  </thead>\n",
       "  <tbody>\n",
       "    <tr>\n",
       "      <th>0</th>\n",
       "      <td>2011-01-01</td>\n",
       "      <td>0</td>\n",
       "      <td>2</td>\n",
       "      <td>0.344167</td>\n",
       "      <td>0.363625</td>\n",
       "      <td>0.805833</td>\n",
       "      <td>0.160446</td>\n",
       "    </tr>\n",
       "    <tr>\n",
       "      <th>1</th>\n",
       "      <td>2011-01-02</td>\n",
       "      <td>0</td>\n",
       "      <td>2</td>\n",
       "      <td>0.363478</td>\n",
       "      <td>0.353739</td>\n",
       "      <td>0.696087</td>\n",
       "      <td>0.248539</td>\n",
       "    </tr>\n",
       "  </tbody>\n",
       "</table>\n",
       "</div>"
      ],
      "text/plain": [
       "          ds  workingday  weathersit      temp     atemp       hum  windspeed\n",
       "0 2011-01-01           0           2  0.344167  0.363625  0.805833   0.160446\n",
       "1 2011-01-02           0           2  0.363478  0.353739  0.696087   0.248539"
      ]
     },
     "execution_count": 13,
     "metadata": {},
     "output_type": "execute_result"
    }
   ],
   "source": [
    "# merge external regressors\n",
    "X_df = pd.concat([X_df, df.drop(columns=['ds','y','holiday'])], axis = 1)\n",
    "X_df.head(2)"
   ]
  },
  {
   "cell_type": "code",
   "execution_count": 14,
   "metadata": {},
   "outputs": [
    {
     "data": {
      "text/html": [
       "<div>\n",
       "<style scoped>\n",
       "    .dataframe tbody tr th:only-of-type {\n",
       "        vertical-align: middle;\n",
       "    }\n",
       "\n",
       "    .dataframe tbody tr th {\n",
       "        vertical-align: top;\n",
       "    }\n",
       "\n",
       "    .dataframe thead th {\n",
       "        text-align: right;\n",
       "    }\n",
       "</style>\n",
       "<table border=\"1\" class=\"dataframe\">\n",
       "  <thead>\n",
       "    <tr style=\"text-align: right;\">\n",
       "      <th></th>\n",
       "      <th>ds</th>\n",
       "      <th>trend</th>\n",
       "      <th>yhat_lower</th>\n",
       "      <th>yhat_upper</th>\n",
       "      <th>trend_lower</th>\n",
       "      <th>trend_upper</th>\n",
       "      <th>atemp</th>\n",
       "      <th>atemp_lower</th>\n",
       "      <th>atemp_upper</th>\n",
       "      <th>extra_regressors_multiplicative</th>\n",
       "      <th>extra_regressors_multiplicative_lower</th>\n",
       "      <th>extra_regressors_multiplicative_upper</th>\n",
       "      <th>holi</th>\n",
       "      <th>holi_lower</th>\n",
       "      <th>holi_upper</th>\n",
       "      <th>holidays</th>\n",
       "      <th>holidays_lower</th>\n",
       "      <th>holidays_upper</th>\n",
       "      <th>hum</th>\n",
       "      <th>hum_lower</th>\n",
       "      <th>hum_upper</th>\n",
       "      <th>multiplicative_terms</th>\n",
       "      <th>multiplicative_terms_lower</th>\n",
       "      <th>multiplicative_terms_upper</th>\n",
       "      <th>temp</th>\n",
       "      <th>temp_lower</th>\n",
       "      <th>temp_upper</th>\n",
       "      <th>weathersit</th>\n",
       "      <th>weathersit_lower</th>\n",
       "      <th>weathersit_upper</th>\n",
       "      <th>weekly</th>\n",
       "      <th>weekly_lower</th>\n",
       "      <th>weekly_upper</th>\n",
       "      <th>windspeed</th>\n",
       "      <th>windspeed_lower</th>\n",
       "      <th>windspeed_upper</th>\n",
       "      <th>workingday</th>\n",
       "      <th>workingday_lower</th>\n",
       "      <th>workingday_upper</th>\n",
       "      <th>yearly</th>\n",
       "      <th>yearly_lower</th>\n",
       "      <th>yearly_upper</th>\n",
       "      <th>additive_terms</th>\n",
       "      <th>additive_terms_lower</th>\n",
       "      <th>additive_terms_upper</th>\n",
       "      <th>yhat</th>\n",
       "    </tr>\n",
       "  </thead>\n",
       "  <tbody>\n",
       "    <tr>\n",
       "      <th>0</th>\n",
       "      <td>2011-01-01</td>\n",
       "      <td>2477.353019</td>\n",
       "      <td>320.029245</td>\n",
       "      <td>2219.942181</td>\n",
       "      <td>2477.353019</td>\n",
       "      <td>2477.353019</td>\n",
       "      <td>-0.055318</td>\n",
       "      <td>-0.055318</td>\n",
       "      <td>-0.055318</td>\n",
       "      <td>-0.283354</td>\n",
       "      <td>-0.283354</td>\n",
       "      <td>-0.283354</td>\n",
       "      <td>0.0</td>\n",
       "      <td>0.0</td>\n",
       "      <td>0.0</td>\n",
       "      <td>0.0</td>\n",
       "      <td>0.0</td>\n",
       "      <td>0.0</td>\n",
       "      <td>-0.073838</td>\n",
       "      <td>-0.073838</td>\n",
       "      <td>-0.073838</td>\n",
       "      <td>-0.500493</td>\n",
       "      <td>-0.500493</td>\n",
       "      <td>-0.500493</td>\n",
       "      <td>-0.092727</td>\n",
       "      <td>-0.092727</td>\n",
       "      <td>-0.092727</td>\n",
       "      <td>-0.082024</td>\n",
       "      <td>-0.082024</td>\n",
       "      <td>-0.082024</td>\n",
       "      <td>0.053070</td>\n",
       "      <td>0.053070</td>\n",
       "      <td>0.053070</td>\n",
       "      <td>0.020554</td>\n",
       "      <td>0.020554</td>\n",
       "      <td>0.020554</td>\n",
       "      <td>0.0</td>\n",
       "      <td>0.0</td>\n",
       "      <td>0.0</td>\n",
       "      <td>-0.270210</td>\n",
       "      <td>-0.270210</td>\n",
       "      <td>-0.270210</td>\n",
       "      <td>0.0</td>\n",
       "      <td>0.0</td>\n",
       "      <td>0.0</td>\n",
       "      <td>1237.455128</td>\n",
       "    </tr>\n",
       "    <tr>\n",
       "      <th>1</th>\n",
       "      <td>2011-01-02</td>\n",
       "      <td>2482.773408</td>\n",
       "      <td>100.081694</td>\n",
       "      <td>1903.915888</td>\n",
       "      <td>2482.773408</td>\n",
       "      <td>2482.773408</td>\n",
       "      <td>-0.059974</td>\n",
       "      <td>-0.059974</td>\n",
       "      <td>-0.059974</td>\n",
       "      <td>-0.291619</td>\n",
       "      <td>-0.291619</td>\n",
       "      <td>-0.291619</td>\n",
       "      <td>0.0</td>\n",
       "      <td>0.0</td>\n",
       "      <td>0.0</td>\n",
       "      <td>0.0</td>\n",
       "      <td>0.0</td>\n",
       "      <td>0.0</td>\n",
       "      <td>-0.028912</td>\n",
       "      <td>-0.028912</td>\n",
       "      <td>-0.028912</td>\n",
       "      <td>-0.598647</td>\n",
       "      <td>-0.598647</td>\n",
       "      <td>-0.598647</td>\n",
       "      <td>-0.081455</td>\n",
       "      <td>-0.081455</td>\n",
       "      <td>-0.081455</td>\n",
       "      <td>-0.082024</td>\n",
       "      <td>-0.082024</td>\n",
       "      <td>-0.082024</td>\n",
       "      <td>-0.044262</td>\n",
       "      <td>-0.044262</td>\n",
       "      <td>-0.044262</td>\n",
       "      <td>-0.039253</td>\n",
       "      <td>-0.039253</td>\n",
       "      <td>-0.039253</td>\n",
       "      <td>0.0</td>\n",
       "      <td>0.0</td>\n",
       "      <td>0.0</td>\n",
       "      <td>-0.262766</td>\n",
       "      <td>-0.262766</td>\n",
       "      <td>-0.262766</td>\n",
       "      <td>0.0</td>\n",
       "      <td>0.0</td>\n",
       "      <td>0.0</td>\n",
       "      <td>996.469042</td>\n",
       "    </tr>\n",
       "  </tbody>\n",
       "</table>\n",
       "</div>"
      ],
      "text/plain": [
       "          ds        trend  yhat_lower   yhat_upper  trend_lower  trend_upper  \\\n",
       "0 2011-01-01  2477.353019  320.029245  2219.942181  2477.353019  2477.353019   \n",
       "1 2011-01-02  2482.773408  100.081694  1903.915888  2482.773408  2482.773408   \n",
       "\n",
       "      atemp  atemp_lower  atemp_upper  extra_regressors_multiplicative  \\\n",
       "0 -0.055318    -0.055318    -0.055318                        -0.283354   \n",
       "1 -0.059974    -0.059974    -0.059974                        -0.291619   \n",
       "\n",
       "   extra_regressors_multiplicative_lower  \\\n",
       "0                              -0.283354   \n",
       "1                              -0.291619   \n",
       "\n",
       "   extra_regressors_multiplicative_upper  holi  holi_lower  holi_upper  \\\n",
       "0                              -0.283354   0.0         0.0         0.0   \n",
       "1                              -0.291619   0.0         0.0         0.0   \n",
       "\n",
       "   holidays  holidays_lower  holidays_upper       hum  hum_lower  hum_upper  \\\n",
       "0       0.0             0.0             0.0 -0.073838  -0.073838  -0.073838   \n",
       "1       0.0             0.0             0.0 -0.028912  -0.028912  -0.028912   \n",
       "\n",
       "   multiplicative_terms  multiplicative_terms_lower  \\\n",
       "0             -0.500493                   -0.500493   \n",
       "1             -0.598647                   -0.598647   \n",
       "\n",
       "   multiplicative_terms_upper      temp  temp_lower  temp_upper  weathersit  \\\n",
       "0                   -0.500493 -0.092727   -0.092727   -0.092727   -0.082024   \n",
       "1                   -0.598647 -0.081455   -0.081455   -0.081455   -0.082024   \n",
       "\n",
       "   weathersit_lower  weathersit_upper    weekly  weekly_lower  weekly_upper  \\\n",
       "0         -0.082024         -0.082024  0.053070      0.053070      0.053070   \n",
       "1         -0.082024         -0.082024 -0.044262     -0.044262     -0.044262   \n",
       "\n",
       "   windspeed  windspeed_lower  windspeed_upper  workingday  workingday_lower  \\\n",
       "0   0.020554         0.020554         0.020554         0.0               0.0   \n",
       "1  -0.039253        -0.039253        -0.039253         0.0               0.0   \n",
       "\n",
       "   workingday_upper    yearly  yearly_lower  yearly_upper  additive_terms  \\\n",
       "0               0.0 -0.270210     -0.270210     -0.270210             0.0   \n",
       "1               0.0 -0.262766     -0.262766     -0.262766             0.0   \n",
       "\n",
       "   additive_terms_lower  additive_terms_upper         yhat  \n",
       "0                   0.0                   0.0  1237.455128  \n",
       "1                   0.0                   0.0   996.469042  "
      ]
     },
     "execution_count": 14,
     "metadata": {},
     "output_type": "execute_result"
    }
   ],
   "source": [
    "forecast = model.predict(X_df)\n",
    "forecast.head(2)"
   ]
  },
  {
   "cell_type": "code",
   "execution_count": 15,
   "metadata": {},
   "outputs": [
    {
     "data": {
      "text/plain": [
       "700    4122.797902\n",
       "701    3500.425268\n",
       "702    5620.561787\n",
       "703    5601.226735\n",
       "704    5305.461428\n",
       "705    4742.701792\n",
       "706    3908.718181\n",
       "707    4128.226463\n",
       "708    3267.047143\n",
       "709    3661.226941\n",
       "710    3584.650149\n",
       "711    3902.872113\n",
       "712    4816.127091\n",
       "713    4552.788735\n",
       "714    4947.501901\n",
       "715    3195.290732\n",
       "716    3472.400760\n",
       "717    4609.237037\n",
       "718    4296.048515\n",
       "719    3522.463788\n",
       "720    2667.673323\n",
       "721    3296.034436\n",
       "722    3370.657194\n",
       "723    2389.316832\n",
       "724    1930.644198\n",
       "725     117.095487\n",
       "726    1792.693732\n",
       "727    2960.213459\n",
       "728    2720.152241\n",
       "729    2675.100625\n",
       "730    2585.993493\n",
       "Name: yhat, dtype: float64"
      ]
     },
     "execution_count": 15,
     "metadata": {},
     "output_type": "execute_result"
    }
   ],
   "source": [
    "forecast['yhat'][-test_period:]"
   ]
  },
  {
   "cell_type": "code",
   "execution_count": 16,
   "metadata": {},
   "outputs": [
    {
     "data": {
      "text/plain": [
       "2012-12-01    4122.797902\n",
       "2012-12-02    3500.425268\n",
       "2012-12-03    5620.561787\n",
       "2012-12-04    5601.226735\n",
       "2012-12-05    5305.461428\n",
       "dtype: float64"
      ]
     },
     "execution_count": 16,
     "metadata": {},
     "output_type": "execute_result"
    }
   ],
   "source": [
    "preds = pd.Series(forecast['yhat'][-test_period:].values, index = test['ds'].values)\n",
    "preds[:5]"
   ]
  },
  {
   "cell_type": "code",
   "execution_count": 17,
   "metadata": {},
   "outputs": [
    {
     "name": "stdout",
     "output_type": "stream",
     "text": [
      "Average level:  4504.0\n",
      "MAE:   906.0\n",
      "RMSE:  1030.0\n",
      "MAPE:  34.09\n"
     ]
    }
   ],
   "source": [
    "print('Average level: ', round(df['y'].mean(),0))\n",
    "print('MAE:  ', mean_absolute_error(test['y'], preds).round(0))\n",
    "print('RMSE: ', np.sqrt(mean_squared_error(test['y'], preds)).round(0))\n",
    "print('MAPE: ', round(((test['y'] - preds.values)/test['y']).abs().mean()*100,2))"
   ]
  },
  {
   "cell_type": "code",
   "execution_count": 18,
   "metadata": {},
   "outputs": [
    {
     "data": {
      "image/png": "[encoded data removed]",
      "text/plain": [
       "<Figure size 864x360 with 1 Axes>"
      ]
     },
     "metadata": {
      "needs_background": "light"
     },
     "output_type": "display_data"
    }
   ],
   "source": [
    "plt.figure(figsize = (12,5))\n",
    "sns.lineplot(data = train[-120:], x='ds', y='y', label='Train')\n",
    "sns.lineplot(data = test, x='ds', y='y', label='Test' )\n",
    "sns.lineplot(x = preds.index, y = preds.values, label='Prophet')\n",
    "plt.legend(loc='best');"
   ]
  },
  {
   "cell_type": "markdown",
   "metadata": {},
   "source": [
    "## Stage 2 - XGBoost Model"
   ]
  },
  {
   "cell_type": "code",
   "execution_count": 19,
   "metadata": {},
   "outputs": [
    {
     "data": {
      "text/html": [
       "<div>\n",
       "<style scoped>\n",
       "    .dataframe tbody tr th:only-of-type {\n",
       "        vertical-align: middle;\n",
       "    }\n",
       "\n",
       "    .dataframe tbody tr th {\n",
       "        vertical-align: top;\n",
       "    }\n",
       "\n",
       "    .dataframe thead th {\n",
       "        text-align: right;\n",
       "    }\n",
       "</style>\n",
       "<table border=\"1\" class=\"dataframe\">\n",
       "  <thead>\n",
       "    <tr style=\"text-align: right;\">\n",
       "      <th></th>\n",
       "      <th>ds</th>\n",
       "      <th>y</th>\n",
       "      <th>workingday</th>\n",
       "      <th>weathersit</th>\n",
       "      <th>temp</th>\n",
       "      <th>atemp</th>\n",
       "      <th>hum</th>\n",
       "      <th>windspeed</th>\n",
       "      <th>trend</th>\n",
       "      <th>holi</th>\n",
       "      <th>weekly</th>\n",
       "      <th>yearly</th>\n",
       "    </tr>\n",
       "  </thead>\n",
       "  <tbody>\n",
       "    <tr>\n",
       "      <th>0</th>\n",
       "      <td>2011-01-01</td>\n",
       "      <td>985</td>\n",
       "      <td>0</td>\n",
       "      <td>2</td>\n",
       "      <td>0.344167</td>\n",
       "      <td>0.363625</td>\n",
       "      <td>0.805833</td>\n",
       "      <td>0.160446</td>\n",
       "      <td>2477.353019</td>\n",
       "      <td>0.0</td>\n",
       "      <td>0.053070</td>\n",
       "      <td>-0.270210</td>\n",
       "    </tr>\n",
       "    <tr>\n",
       "      <th>1</th>\n",
       "      <td>2011-01-02</td>\n",
       "      <td>801</td>\n",
       "      <td>0</td>\n",
       "      <td>2</td>\n",
       "      <td>0.363478</td>\n",
       "      <td>0.353739</td>\n",
       "      <td>0.696087</td>\n",
       "      <td>0.248539</td>\n",
       "      <td>2482.773408</td>\n",
       "      <td>0.0</td>\n",
       "      <td>-0.044262</td>\n",
       "      <td>-0.262766</td>\n",
       "    </tr>\n",
       "    <tr>\n",
       "      <th>2</th>\n",
       "      <td>2011-01-03</td>\n",
       "      <td>1349</td>\n",
       "      <td>1</td>\n",
       "      <td>1</td>\n",
       "      <td>0.196364</td>\n",
       "      <td>0.189405</td>\n",
       "      <td>0.437273</td>\n",
       "      <td>0.248309</td>\n",
       "      <td>2488.193796</td>\n",
       "      <td>0.0</td>\n",
       "      <td>-0.024677</td>\n",
       "      <td>-0.253971</td>\n",
       "    </tr>\n",
       "    <tr>\n",
       "      <th>3</th>\n",
       "      <td>2011-01-04</td>\n",
       "      <td>1562</td>\n",
       "      <td>1</td>\n",
       "      <td>1</td>\n",
       "      <td>0.200000</td>\n",
       "      <td>0.212122</td>\n",
       "      <td>0.590435</td>\n",
       "      <td>0.160296</td>\n",
       "      <td>2493.614184</td>\n",
       "      <td>0.0</td>\n",
       "      <td>0.001114</td>\n",
       "      <td>-0.243958</td>\n",
       "    </tr>\n",
       "    <tr>\n",
       "      <th>4</th>\n",
       "      <td>2011-01-05</td>\n",
       "      <td>1600</td>\n",
       "      <td>1</td>\n",
       "      <td>1</td>\n",
       "      <td>0.226957</td>\n",
       "      <td>0.229270</td>\n",
       "      <td>0.436957</td>\n",
       "      <td>0.186900</td>\n",
       "      <td>2499.034572</td>\n",
       "      <td>0.0</td>\n",
       "      <td>-0.003566</td>\n",
       "      <td>-0.232881</td>\n",
       "    </tr>\n",
       "  </tbody>\n",
       "</table>\n",
       "</div>"
      ],
      "text/plain": [
       "          ds     y  workingday  weathersit      temp     atemp       hum  \\\n",
       "0 2011-01-01   985           0           2  0.344167  0.363625  0.805833   \n",
       "1 2011-01-02   801           0           2  0.363478  0.353739  0.696087   \n",
       "2 2011-01-03  1349           1           1  0.196364  0.189405  0.437273   \n",
       "3 2011-01-04  1562           1           1  0.200000  0.212122  0.590435   \n",
       "4 2011-01-05  1600           1           1  0.226957  0.229270  0.436957   \n",
       "\n",
       "   windspeed        trend  holi    weekly    yearly  \n",
       "0   0.160446  2477.353019   0.0  0.053070 -0.270210  \n",
       "1   0.248539  2482.773408   0.0 -0.044262 -0.262766  \n",
       "2   0.248309  2488.193796   0.0 -0.024677 -0.253971  \n",
       "3   0.160296  2493.614184   0.0  0.001114 -0.243958  \n",
       "4   0.186900  2499.034572   0.0 -0.003566 -0.232881  "
      ]
     },
     "execution_count": 19,
     "metadata": {},
     "output_type": "execute_result"
    }
   ],
   "source": [
    "# Extracting Prophet's fitted model variables of interest - to augment original features\n",
    "cols = ['trend', 'holi', 'weekly', 'yearly']\n",
    "prophet_variables = forecast.loc[:,cols]\n",
    "xgb_df = pd.concat( [df.drop(columns='holiday'),prophet_variables], axis=1)\n",
    "xgb_df.head()"
   ]
  },
  {
   "cell_type": "code",
   "execution_count": 20,
   "metadata": {},
   "outputs": [
    {
     "name": "stdout",
     "output_type": "stream",
     "text": [
      "(700, 12) (31, 12)\n"
     ]
    },
    {
     "data": {
      "text/html": [
       "<div>\n",
       "<style scoped>\n",
       "    .dataframe tbody tr th:only-of-type {\n",
       "        vertical-align: middle;\n",
       "    }\n",
       "\n",
       "    .dataframe tbody tr th {\n",
       "        vertical-align: top;\n",
       "    }\n",
       "\n",
       "    .dataframe thead th {\n",
       "        text-align: right;\n",
       "    }\n",
       "</style>\n",
       "<table border=\"1\" class=\"dataframe\">\n",
       "  <thead>\n",
       "    <tr style=\"text-align: right;\">\n",
       "      <th></th>\n",
       "      <th>ds</th>\n",
       "      <th>y</th>\n",
       "      <th>workingday</th>\n",
       "      <th>weathersit</th>\n",
       "      <th>temp</th>\n",
       "      <th>atemp</th>\n",
       "      <th>hum</th>\n",
       "      <th>windspeed</th>\n",
       "      <th>trend</th>\n",
       "      <th>holi</th>\n",
       "      <th>weekly</th>\n",
       "      <th>yearly</th>\n",
       "    </tr>\n",
       "  </thead>\n",
       "  <tbody>\n",
       "    <tr>\n",
       "      <th>729</th>\n",
       "      <td>2012-12-30</td>\n",
       "      <td>1796</td>\n",
       "      <td>0</td>\n",
       "      <td>1</td>\n",
       "      <td>0.255833</td>\n",
       "      <td>0.231700</td>\n",
       "      <td>0.483333</td>\n",
       "      <td>0.350754</td>\n",
       "      <td>6428.809689</td>\n",
       "      <td>0.0</td>\n",
       "      <td>-0.044262</td>\n",
       "      <td>-0.278614</td>\n",
       "    </tr>\n",
       "    <tr>\n",
       "      <th>730</th>\n",
       "      <td>2012-12-31</td>\n",
       "      <td>2729</td>\n",
       "      <td>1</td>\n",
       "      <td>2</td>\n",
       "      <td>0.215833</td>\n",
       "      <td>0.223487</td>\n",
       "      <td>0.577500</td>\n",
       "      <td>0.154846</td>\n",
       "      <td>6434.230065</td>\n",
       "      <td>0.0</td>\n",
       "      <td>-0.024677</td>\n",
       "      <td>-0.273390</td>\n",
       "    </tr>\n",
       "  </tbody>\n",
       "</table>\n",
       "</div>"
      ],
      "text/plain": [
       "            ds     y  workingday  weathersit      temp     atemp       hum  \\\n",
       "729 2012-12-30  1796           0           1  0.255833  0.231700  0.483333   \n",
       "730 2012-12-31  2729           1           2  0.215833  0.223487  0.577500   \n",
       "\n",
       "     windspeed        trend  holi    weekly    yearly  \n",
       "729   0.350754  6428.809689   0.0 -0.044262 -0.278614  \n",
       "730   0.154846  6434.230065   0.0 -0.024677 -0.273390  "
      ]
     },
     "metadata": {},
     "output_type": "display_data"
    }
   ],
   "source": [
    "# Train, Test split\n",
    "test_period = 31\n",
    "train_xgb = xgb_df.iloc[:-test_period,:]\n",
    "test_xgb  = xgb_df.iloc[-test_period:,:]\n",
    "print(train_xgb.shape, test_xgb.shape)\n",
    "display(test_xgb.tail(2))"
   ]
  },
  {
   "cell_type": "code",
   "execution_count": 21,
   "metadata": {},
   "outputs": [
    {
     "name": "stdout",
     "output_type": "stream",
     "text": [
      "(700,) (31,) (700, 10) (31, 10)\n"
     ]
    }
   ],
   "source": [
    "# Separate X & Y\n",
    "y_train = train_xgb['y']\n",
    "y_test  = test_xgb['y']\n",
    "X_train = train_xgb.drop(columns = ['ds', 'y'])\n",
    "X_test  = test_xgb.drop(columns = ['ds', 'y'])\n",
    "print(y_train.shape, y_test.shape, X_train.shape, X_test.shape)"
   ]
  },
  {
   "cell_type": "code",
   "execution_count": 22,
   "metadata": {},
   "outputs": [],
   "source": [
    "model = xgb.XGBRegressor(max_depth=3, \n",
    "                         learning_rate=0.1, \n",
    "                         use_label_encoder=False, \n",
    "                         eval_metric='rmse',\n",
    "                         objective='reg:squarederror',\n",
    "                         n_estimators=100) #,early_stopping_rounds=10)\n",
    "\n",
    "# Objective functions: https://xgboost.readthedocs.io/en/stable/parameter.html \n",
    "    \n",
    "val_test = [(X_test, y_test)]"
   ]
  },
  {
   "cell_type": "code",
   "execution_count": 23,
   "metadata": {},
   "outputs": [
    {
     "name": "stdout",
     "output_type": "stream",
     "text": [
      "[0]\tvalidation_0-rmse:3891.58894\n",
      "[10]\tvalidation_0-rmse:1868.58752\n",
      "[20]\tvalidation_0-rmse:1443.42856\n",
      "[30]\tvalidation_0-rmse:1354.64504\n",
      "[40]\tvalidation_0-rmse:1276.28282\n",
      "[50]\tvalidation_0-rmse:1236.33411\n",
      "[60]\tvalidation_0-rmse:1194.74352\n",
      "[70]\tvalidation_0-rmse:1187.69443\n",
      "[80]\tvalidation_0-rmse:1181.29683\n",
      "[90]\tvalidation_0-rmse:1193.42533\n",
      "[99]\tvalidation_0-rmse:1184.49998\n"
     ]
    },
    {
     "data": {
      "text/plain": [
       "XGBRegressor(base_score=0.5, booster='gbtree', callbacks=None,\n",
       "             colsample_bylevel=1, colsample_bynode=1, colsample_bytree=1,\n",
       "             early_stopping_rounds=None, enable_categorical=False,\n",
       "             eval_metric='rmse', gamma=0, gpu_id=-1, grow_policy='depthwise',\n",
       "             importance_type=None, interaction_constraints='',\n",
       "             learning_rate=0.1, max_bin=256, max_cat_to_onehot=4,\n",
       "             max_delta_step=0, max_depth=3, max_leaves=0, min_child_weight=1,\n",
       "             missing=nan, monotone_constraints='()', n_estimators=100, n_jobs=0,\n",
       "             num_parallel_tree=1, predictor='auto', random_state=0, reg_alpha=0,\n",
       "             reg_lambda=1, ...)"
      ]
     },
     "execution_count": 23,
     "metadata": {},
     "output_type": "execute_result"
    }
   ],
   "source": [
    "model.fit(X_train, y_train, eval_set=val_test, verbose=10)"
   ]
  },
  {
   "cell_type": "code",
   "execution_count": 24,
   "metadata": {},
   "outputs": [
    {
     "data": {
      "text/plain": [
       "ds\n",
       "2012-12-01    3830.047607\n",
       "2012-12-02    2749.846436\n",
       "2012-12-03    6315.544434\n",
       "2012-12-04    6338.417969\n",
       "2012-12-05    6057.785645\n",
       "dtype: float32"
      ]
     },
     "execution_count": 24,
     "metadata": {},
     "output_type": "execute_result"
    }
   ],
   "source": [
    "preds_xgb = pd.Series(model.predict(X_test), index = test_xgb['ds'])\n",
    "preds_xgb[:5]"
   ]
  },
  {
   "cell_type": "code",
   "execution_count": 25,
   "metadata": {},
   "outputs": [
    {
     "data": {
      "image/png": "[encoded data removed]",
      "text/plain": [
       "<Figure size 864x360 with 1 Axes>"
      ]
     },
     "metadata": {
      "needs_background": "light"
     },
     "output_type": "display_data"
    }
   ],
   "source": [
    "plt.figure(figsize = (12,5))\n",
    "sns.lineplot(data = train[-120:], x='ds', y='y', label='Train')\n",
    "sns.lineplot(data = test, x='ds', y='y', label='Test' )\n",
    "sns.lineplot(x = preds.index, y = preds.values, label='Prophet')\n",
    "sns.lineplot(x = preds_xgb.index, y = preds_xgb.values, label='XGB')\n",
    "plt.legend(loc='best');"
   ]
  },
  {
   "cell_type": "code",
   "execution_count": 26,
   "metadata": {},
   "outputs": [
    {
     "name": "stdout",
     "output_type": "stream",
     "text": [
      "Average level:  4504.0\n",
      "MAE:   962.0\n",
      "RMSE:  1184.0\n",
      "MAPE:  44.16\n"
     ]
    }
   ],
   "source": [
    "print('Average level: ', round(df['y'].mean(),0))\n",
    "print('MAE:  ', mean_absolute_error(test['y'], preds_xgb).round(0))\n",
    "print('RMSE: ', np.sqrt(mean_squared_error(test['y'], preds_xgb)).round(0))\n",
    "print('MAPE: ', round(((test['y'] - preds_xgb.values)/test['y']).abs().mean()*100,2))"
   ]
  },
  {
   "cell_type": "code",
   "execution_count": 27,
   "metadata": {},
   "outputs": [],
   "source": [
    "preds_xgb.to_csv('preds_prophet_XGB.csv')"
   ]
  }
 ],
 "metadata": {
  "kernelspec": {
   "display_name": "Python 3 (ipykernel)",
   "language": "python",
   "name": "python3"
  },
  "language_info": {
   "codemirror_mode": {
    "name": "ipython",
    "version": 3
   },
   "file_extension": ".py",
   "mimetype": "text/x-python",
   "name": "python",
   "nbconvert_exporter": "python",
   "pygments_lexer": "ipython3",
   "version": "3.8.5"
  }
 },
 "nbformat": 4,
 "nbformat_minor": 4
}
